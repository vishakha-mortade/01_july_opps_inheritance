{
 "cells": [
  {
   "cell_type": "code",
   "execution_count": null,
   "id": "b5069d6c-dcf6-409c-966d-7522eb053772",
   "metadata": {},
   "outputs": [],
   "source": [
    "1. What is the primary goal of Object-Oriented Programming (OOP)?"
   ]
  },
  {
   "cell_type": "code",
   "execution_count": null,
   "id": "b374f4a1-f88e-4459-91e0-cfa4b633581f",
   "metadata": {},
   "outputs": [],
   "source": [
    "The primary goal of Object-Oriented Programming (OOP) is to provide a flexible and modular approach to software development by organizing data and functionality into objects. OOP promotes code reuse, modularity, and abstraction, resulting in more maintainable and scalable software systems."
   ]
  },
  {
   "cell_type": "code",
   "execution_count": null,
   "id": "d42f8ad6-8828-4f87-af32-5b6b55e2acbb",
   "metadata": {},
   "outputs": [],
   "source": [
    "2. What is an object in Python?"
   ]
  },
  {
   "cell_type": "code",
   "execution_count": null,
   "id": "b994c3e1-2771-4c06-b45c-d2aa0753844c",
   "metadata": {},
   "outputs": [],
   "source": [
    "The primary goal of Object-Oriented Programming (OOP) is to provide a flexible and modular approach to software development by organizing data and functionality into objects. OOP promotes code reuse, modularity, and abstraction, resulting in more maintainable and scalable software systems."
   ]
  },
  {
   "cell_type": "code",
   "execution_count": null,
   "id": "089a9489-ad63-4fd7-8ef6-f3d341905cc5",
   "metadata": {},
   "outputs": [],
   "source": [
    "3. What is a class in Python?"
   ]
  },
  {
   "cell_type": "code",
   "execution_count": null,
   "id": "3fe91e61-e97a-4be9-9d73-4b6fd34de9e8",
   "metadata": {},
   "outputs": [],
   "source": [
    "In Python, a class is a blueprint for creating objects (instances) that define their properties and behaviors. It acts as a template or a definition for creating multiple objects with similar attributes and methods. It encapsulates data and functions within a single entity, allowing for code reusability and organization."
   ]
  },
  {
   "cell_type": "code",
   "execution_count": null,
   "id": "11a02d1f-6d4d-4425-9e81-72329d6fbd0b",
   "metadata": {},
   "outputs": [],
   "source": [
    "4. What are attributes and methods in a class?"
   ]
  },
  {
   "cell_type": "code",
   "execution_count": null,
   "id": "a79aca33-f963-46d0-af42-02b7be1fae79",
   "metadata": {},
   "outputs": [],
   "source": [
    "Attributes in a class are the variables that store data and represent the state of an object. They define the characteristics or properties of the objects created from the class. Methods, on the other hand, are functions defined within a class that define the behavior and actions that objects of that class can perform. They encapsulate the actions and the operations that can be performed on the attributes of the class. Attributes and methods together define the structure and behavior of objects created from the class."
   ]
  },
  {
   "cell_type": "code",
   "execution_count": null,
   "id": "46a29c0f-72da-4a44-8901-fc84c24fe4d9",
   "metadata": {},
   "outputs": [],
   "source": [
    "5. What is the difference between class variables and instance variables in Python?"
   ]
  },
  {
   "cell_type": "code",
   "execution_count": null,
   "id": "865477cf-6f78-4cfc-9821-c52ed5488a78",
   "metadata": {},
   "outputs": [],
   "source": [
    "In Python, class variables are shared by all instances of a class. They are defined within a class but outside of any instance methods. Changes to class variables are reflected across all instances and should be accessed using the class name.\n",
    "\n",
    "Instance variables, on the other hand, are specific to each instance of a class. They are defined within the methods of a class and prefixed with the `self` keyword. Each instance holds its own copy of instance variables, allowing them to have different values for each individual instance.\n",
    "\n",
    "In summary, class variables are shared among all instances, while instance variables are specific to each instance of a class."
   ]
  },
  {
   "cell_type": "code",
   "execution_count": null,
   "id": "fed850a5-8f5d-40d6-8a73-3e0e7ecdb0e1",
   "metadata": {},
   "outputs": [],
   "source": [
    "6. What is the purpose of the self parameter in Python class methods?"
   ]
  },
  {
   "cell_type": "code",
   "execution_count": null,
   "id": "a491d42c-5cd5-4547-8419-18af7a58ab5a",
   "metadata": {},
   "outputs": [],
   "source": [
    "The `self` parameter in Python class methods is a reference to the instance of the class. It allows the methods to access and manipulate the instance's attributes and methods. By convention, the first parameter of any class method is the `self` parameter, although it can be named differently. Using `self`, you can access and modify instance variables, call other instance methods, or access the class itself. It helps in maintaining the scope and state of the object within the class."
   ]
  },
  {
   "cell_type": "code",
   "execution_count": null,
   "id": "ba9cd7ce-8f7a-4db7-b491-13d18695bd52",
   "metadata": {},
   "outputs": [],
   "source": [
    "7. For a library management system, you have to design the \"Book\" class with OOP\n",
    "principles in mind. The “Book” class will have following attributes:\n",
    "a. title: Represents the title of the book.\n",
    "b. author: Represents the author(s) of the book.\n",
    "c. isbn: Represents the ISBN (International Standard Book Number) of the book.\n",
    "d. publication_year: Represents the year of publication of the book.\n",
    "e. available_copies: Represents the number of copies available for checkout.\n",
    "The class will also include the following methods:\n",
    "a. check_out(self): Decrements the available copies by one if there are copies\n",
    "available for checkout.\n",
    "b. return_book(self): Increments the available copies by one when a book is\n",
    "returned.\n",
    "c. display_book_info(self): Displays the information about the book, including its\n",
    "attributes and the number of available copies."
   ]
  },
  {
   "cell_type": "code",
   "execution_count": null,
   "id": "e1754088-8af4-4900-af87-ec9c4259ad88",
   "metadata": {},
   "outputs": [],
   "source": [
    " \n",
    "```python\n",
    "class Book:\n",
    "def __init__(self, title, author, isbn, publication_year, available_copies):\n",
    "self.title = title\n",
    "self.author = author\n",
    "self.isbn = isbn\n",
    "self.publication_year = publication_year\n",
    "self.available_copies = available_copies\n",
    "\n",
    "def check_out(self):\n",
    "if self.available_copies > 0:\n",
    "self.available_copies -= 1\n",
    "print(\"Book checked out successfully.\")\n",
    "else:\n",
    "print(\"Sorry, no copies available for checkout.\")\n",
    "\n",
    "def return_book(self):\n",
    "self.available_copies += 1\n",
    "print(\"Book returned successfully.\")\n",
    "\n",
    "def display_book_info(self):\n",
    "print(\"Book Information:\")\n",
    "print(\"Title:\", self.title)\n",
    "print(\"Author:\", self.author)\n",
    "print(\"ISBN:\", self.isbn)\n",
    "print(\"Publication Year:\", self.publication_year)\n",
    "print(\"Available Copies:\", self.available_copies)\n",
    "```\n",
    "\n",
    "You can create instances of the \"Book\" class, manipulate its attributes, and call its methods accordingly. For example:\n",
    "\n",
    "```python\n",
    "# Creating a book instance\n",
    "book1 = Book(\"The Great Gatsby\", \"F. Scott Fitzgerald\", \"9780743273565\", 1925, 3)\n",
    "\n",
    "# Checking out a book\n",
    "book1.check_out()\n",
    "\n",
    "# Returning a book\n",
    "book1.return_book()\n",
    "\n",
    "# Displaying book information\n",
    "book1.display_book_info()\n",
    "```\n",
    "\n",
    "Feel free to customize the class and its methods as per the requirements of your library management system."
   ]
  },
  {
   "cell_type": "code",
   "execution_count": null,
   "id": "f325f4a3-1d60-44fc-9f65-d327a8ba9791",
   "metadata": {},
   "outputs": [],
   "source": [
    "8. For a ticket booking system, you have to design the \"Ticket\" class with OOP\n",
    "principles in mind. The “Ticket” class should have the following attributes:\n",
    "a. ticket_id: Represents the unique identifier for the ticket.\n",
    "b. event_name: Represents the name of the event.\n",
    "c. event_date: Represents the date of the event.\n",
    "d. venue: Represents the venue of the event.\n",
    "e. seat_number: Represents the seat number associated with the ticket.\n",
    "f. price: Represents the price of the ticket.\n",
    "g. is_reserved: Represents the reservation status of the ticket.\n",
    "The class also includes the following methods:\n",
    "a. reserve_ticket(self): Marks the ticket as reserved if it is not already reserved.\n",
    "b. cancel_reservation(self): Cancels the reservation of the ticket if it is already\n",
    "reserved.\n",
    "c. display_ticket_info(self): Displays the information about the ticket, including its\n",
    "attributes and reservation status."
   ]
  },
  {
   "cell_type": "code",
   "execution_count": null,
   "id": "92eb245f-2ea7-4a10-9800-ab4a9f9acc6b",
   "metadata": {},
   "outputs": [],
   "source": []
  },
  {
   "cell_type": "code",
   "execution_count": null,
   "id": "3ade4622-a806-425f-a8bf-cfd75203169f",
   "metadata": {},
   "outputs": [],
   "source": [
    "class Ticket:\n",
    "def __init__(self, ticket_id, event_name, event_date, venue, seat_number, price):\n",
    "self.ticket_id = ticket_id\n",
    "self.event_name = event_name\n",
    "self.event_date = event_date\n",
    "self.venue = venue\n",
    "self.seat_number = seat_number\n",
    "self.price = price\n",
    "self.is_reserved = False\n",
    "\n",
    "def reserve_ticket(self):\n",
    "if not self.is_reserved:\n",
    "self.is_reserved = True\n",
    "return \"Ticket reserved successfully.\"\n",
    "else:\n",
    "return \"Ticket is already reserved.\"\n",
    "\n",
    "def cancel_reservation(self):\n",
    "if self.is_reserved:\n",
    "self.is_reserved = False\n",
    "return \"Reservation cancelled successfully.\"\n",
    "else:\n",
    "return \"Ticket is not currently reserved.\"\n",
    "\n",
    "def display_ticket_info(self):\n",
    "info = f\"Ticket ID: {self.ticket_id}\\nEvent Name: {self.event_name}\\nEvent Date: {self.event_date}\"\n",
    "info += f\"\\nVenue: {self.venue}\\nSeat Number: {self.seat_number}\\nPrice: ${self.price}\"\n",
    "info += \"\\nReservation Status: Reserved\" if self.is_reserved else \"\\nReservation Status: Not Reserved\"\n",
    "return info\n",
    "```\n",
    "\n",
    "With this implementation, you can create instances of the \"Ticket\" class, reserve and cancel reservations, and display the ticket information as needed.\n",
    "\n"
   ]
  }
 ],
 "metadata": {
  "kernelspec": {
   "display_name": "Python 3 (ipykernel)",
   "language": "python",
   "name": "python3"
  },
  "language_info": {
   "codemirror_mode": {
    "name": "ipython",
    "version": 3
   },
   "file_extension": ".py",
   "mimetype": "text/x-python",
   "name": "python",
   "nbconvert_exporter": "python",
   "pygments_lexer": "ipython3",
   "version": "3.10.6"
  }
 },
 "nbformat": 4,
 "nbformat_minor": 5
}
